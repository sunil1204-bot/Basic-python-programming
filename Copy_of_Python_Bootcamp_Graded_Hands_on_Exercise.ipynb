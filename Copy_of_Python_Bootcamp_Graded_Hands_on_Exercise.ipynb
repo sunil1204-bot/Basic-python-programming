{
  "nbformat": 4,
  "nbformat_minor": 0,
  "metadata": {
    "kernelspec": {
      "display_name": "Python 3",
      "language": "python",
      "name": "python3"
    },
    "language_info": {
      "codemirror_mode": {
        "name": "ipython",
        "version": 3
      },
      "file_extension": ".py",
      "mimetype": "text/x-python",
      "name": "python",
      "nbconvert_exporter": "python",
      "pygments_lexer": "ipython3",
      "version": "3.7.6"
    },
    "colab": {
      "name": "Copy of Python Bootcamp Graded Hands-on Exercise.ipynb",
      "provenance": [],
      "collapsed_sections": [],
      "include_colab_link": true
    }
  },
  "cells": [
    {
      "cell_type": "markdown",
      "metadata": {
        "id": "view-in-github",
        "colab_type": "text"
      },
      "source": [
        "<a href=\"https://colab.research.google.com/github/sunil1204-bot/Basic-python-programming/blob/main/Copy_of_Python_Bootcamp_Graded_Hands_on_Exercise.ipynb\" target=\"_parent\"><img src=\"https://colab.research.google.com/assets/colab-badge.svg\" alt=\"Open In Colab\"/></a>"
      ]
    },
    {
      "cell_type": "markdown",
      "metadata": {
        "id": "A8yCrhVHQ_lC"
      },
      "source": [
        "##Overview\n",
        "\n",
        "Dear Learner, \n",
        "\n",
        "Congratulations, you have studied Python all the way through the end of this bootcamp!!! This is the final graded hands-on exercise where you will be accomplishing the below mentioned task.\n",
        "\n",
        "Authors: Albana Celepija, Vinayak Deshpande"
      ]
    },
    {
      "cell_type": "markdown",
      "metadata": {
        "id": "y_B39vCQGRTH"
      },
      "source": [
        "###Task 1\n",
        "\n",
        "We have declared a tuple containing five same elements as following:\n",
        "T = (‘python’, ‘python’, ‘python’, ‘python’, ‘python’).\n",
        "Re-write the same code in an optimal/simple way that fetches the same result."
      ]
    },
    {
      "cell_type": "code",
      "source": [
        "T = (\"python\", \"python\", \"python\", \"python\", \"python\")\n",
        "T"
      ],
      "metadata": {
        "id": "C4LjAoGtp5oL",
        "outputId": "f643c4ee-4db4-40d7-bc4b-b35b368b7f57",
        "colab": {
          "base_uri": "https://localhost:8080/"
        }
      },
      "execution_count": null,
      "outputs": [
        {
          "output_type": "execute_result",
          "data": {
            "text/plain": [
              "('python', 'python', 'python', 'python', 'python')"
            ]
          },
          "metadata": {},
          "execution_count": 1
        }
      ]
    },
    {
      "cell_type": "markdown",
      "metadata": {
        "id": "H_8tFcijGRTQ"
      },
      "source": [
        "###Task 2\n",
        "\n",
        "Write code to print characters from a string that are present at an even index number.\n",
        "For example, if your input string is \"python\", the output characters will be (p,t,o)."
      ]
    },
    {
      "cell_type": "code",
      "source": [
        "strng=input(str())\n",
        "for ind in range(len(strng)):\n",
        "   if ind%2==0:\n",
        "     print(strng[ind],end='')\n"
      ],
      "metadata": {
        "id": "C0Gj7Y-kqEPH",
        "outputId": "9e649e20-58ad-4dba-e598-05600a2e55a7",
        "colab": {
          "base_uri": "https://localhost:8080/"
        }
      },
      "execution_count": null,
      "outputs": [
        {
          "output_type": "stream",
          "name": "stdout",
          "text": [
            "sunilkumar\n",
            "snlua"
          ]
        }
      ]
    },
    {
      "cell_type": "code",
      "source": [
        "strng=input(str())\n",
        "strng[0::2]"
      ],
      "metadata": {
        "id": "3LGOFZmfypUP",
        "outputId": "4a83cf8e-ed88-4926-c756-e719548325d1",
        "colab": {
          "base_uri": "https://localhost:8080/",
          "height": 54
        }
      },
      "execution_count": null,
      "outputs": [
        {
          "name": "stdout",
          "output_type": "stream",
          "text": [
            "sunilkumar\n"
          ]
        },
        {
          "output_type": "execute_result",
          "data": {
            "application/vnd.google.colaboratory.intrinsic+json": {
              "type": "string"
            },
            "text/plain": [
              "'snlua'"
            ]
          },
          "metadata": {},
          "execution_count": 7
        }
      ]
    },
    {
      "cell_type": "markdown",
      "metadata": {
        "id": "FbLVbwcsGRTT"
      },
      "source": [
        "### Task 3\n",
        "\n",
        "Write a function that calculates the average of the elements of the list: \n",
        "\n",
        "elements = [5, 7, 4, 9, 2]\n"
      ]
    },
    {
      "cell_type": "code",
      "source": [
        "elements = [5, 7, 4, 9, 2]\n",
        "def Average(elements):\n",
        "  return sum(elements)/len(elements)\n",
        "\n"
      ],
      "metadata": {
        "id": "PW2JCJ0Dtnbx"
      },
      "execution_count": null,
      "outputs": []
    },
    {
      "cell_type": "code",
      "source": [
        "Avg=Average(elements)\n",
        "round(Avg,2)"
      ],
      "metadata": {
        "id": "KWxkGPBn4ysK",
        "outputId": "0d8f8057-6212-46fb-aa27-e4e585a79552",
        "colab": {
          "base_uri": "https://localhost:8080/"
        }
      },
      "execution_count": null,
      "outputs": [
        {
          "output_type": "execute_result",
          "data": {
            "text/plain": [
              "5.4"
            ]
          },
          "metadata": {},
          "execution_count": 12
        }
      ]
    },
    {
      "cell_type": "markdown",
      "metadata": {
        "id": "2pzfM3wS4oqt"
      },
      "source": [
        "### Task 4\n",
        "Write code to find if the given year is a leap year or not."
      ]
    },
    {
      "cell_type": "code",
      "source": [
        "def is_leap(year):\n",
        "    if year%4==0:\n",
        "        print(\"Leap Year\")\n",
        "    elif year%400==0:\n",
        "        print(\"Leap Year\")\n",
        "    else:\n",
        "        print(\"Not a Leap Year\")\n",
        "    \n"
      ],
      "metadata": {
        "id": "1xxv60KbzIsZ"
      },
      "execution_count": null,
      "outputs": []
    },
    {
      "cell_type": "code",
      "source": [
        "is_leap(2005)"
      ],
      "metadata": {
        "id": "8rSN18V6zKvF",
        "outputId": "65397a61-f5c8-4344-c2b2-0e22cdb03a57",
        "colab": {
          "base_uri": "https://localhost:8080/"
        }
      },
      "execution_count": null,
      "outputs": [
        {
          "output_type": "stream",
          "name": "stdout",
          "text": [
            "Not a Leap Year\n"
          ]
        }
      ]
    },
    {
      "cell_type": "markdown",
      "metadata": {
        "id": "zsVw9yrD5drx"
      },
      "source": [
        "### Task 5\n",
        "Given a list of numbers (integers), find the sum of second maximum and second minimum in the following list.\n",
        "\n",
        "l = [21, 6, 12, 57, 35, 61]"
      ]
    },
    {
      "cell_type": "code",
      "source": [
        "\n",
        "l = [21, 6, 12, 57, 35, 61]\n",
        "\n",
        "l.remove(max(l))\n",
        "max=max(l)\n",
        "l.remove(min(l))\n",
        "min(min(l))\n",
        "max+min\n"
      ],
      "metadata": {
        "id": "fHCa1XJ9zPaA"
      },
      "execution_count": null,
      "outputs": []
    },
    {
      "cell_type": "markdown",
      "metadata": {
        "id": "ftPUY0J_pfa-"
      },
      "source": [
        "##Scores\n",
        "\n",
        "Each of the tasks is of 2 mark each and the scores will be given accordingly after the notebook review."
      ]
    }
  ]
}