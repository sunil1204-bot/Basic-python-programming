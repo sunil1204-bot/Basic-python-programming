{
 "cells": [
  {
   "cell_type": "code",
   "execution_count": 1,
   "metadata": {},
   "outputs": [
    {
     "data": {
      "text/plain": [
       "'\\n1. Write a Python program to find sum of elements in list?\\n2. Write a Python program to Multiply all numbers in the list?\\n3. Write a Python program to find smallest number in a list?\\n4. Write a Python program to find largest number in a list?\\n5. Write a Python program to find second largest number in a list?\\n6. Write a Python program to find N largest elements from a list?\\n7. Write a Python program to print even numbers in a list?\\n8. Write a Python program to print odd numbers in a List?\\n9. Write a Python program to Remove empty List from List?\\n10. Write a Python program to Cloning or Copying a list?\\n11. Write a Python program to Count occurrences of an element in a list?\\n'"
      ]
     },
     "execution_count": 1,
     "metadata": {},
     "output_type": "execute_result"
    }
   ],
   "source": [
    "\"\"\"\n",
    "1. Write a Python program to find sum of elements in list?\n",
    "2. Write a Python program to Multiply all numbers in the list?\n",
    "3. Write a Python program to find smallest number in a list?\n",
    "4. Write a Python program to find largest number in a list?\n",
    "5. Write a Python program to find second largest number in a list?\n",
    "6. Write a Python program to find N largest elements from a list?\n",
    "7. Write a Python program to print even numbers in a list?\n",
    "8. Write a Python program to print odd numbers in a List?\n",
    "9. Write a Python program to Remove empty List from List?\n",
    "10. Write a Python program to Cloning or Copying a list?\n",
    "11. Write a Python program to Count occurrences of an element in a list?\n",
    "\"\"\""
   ]
  },
  {
   "cell_type": "code",
   "execution_count": 7,
   "metadata": {},
   "outputs": [
    {
     "data": {
      "text/plain": [
       "28"
      ]
     },
     "execution_count": 7,
     "metadata": {},
     "output_type": "execute_result"
    }
   ],
   "source": [
    "#1\n",
    "lst=[1,2,3,4,5,6,7]\n",
    "for i in lst:\n",
    "    ret=i+(i-1)\n",
    "sum(lst)\n",
    "    "
   ]
  },
  {
   "cell_type": "code",
   "execution_count": 11,
   "metadata": {},
   "outputs": [
    {
     "data": {
      "text/plain": [
       "160800"
      ]
     },
     "execution_count": 11,
     "metadata": {},
     "output_type": "execute_result"
    }
   ],
   "source": [
    "#2\n",
    "import numpy as np\n",
    "lst1=[3,4,5,5,67,8]\n",
    "result=np.prod(lst1)\n",
    "result"
   ]
  },
  {
   "cell_type": "code",
   "execution_count": 12,
   "metadata": {},
   "outputs": [
    {
     "data": {
      "text/plain": [
       "22"
      ]
     },
     "execution_count": 12,
     "metadata": {},
     "output_type": "execute_result"
    }
   ],
   "source": [
    "#3\n",
    "lst3=[33,45,66,44,33,22]\n",
    "np.min(lst3)"
   ]
  },
  {
   "cell_type": "code",
   "execution_count": 13,
   "metadata": {},
   "outputs": [
    {
     "data": {
      "text/plain": [
       "432"
      ]
     },
     "execution_count": 13,
     "metadata": {},
     "output_type": "execute_result"
    }
   ],
   "source": [
    "#4\n",
    "lst4=[33,4,2,44,55,66,324,432]\n",
    "np.max(lst4)"
   ]
  },
  {
   "cell_type": "code",
   "execution_count": 20,
   "metadata": {},
   "outputs": [],
   "source": [
    "#5\n",
    "list5=[1,2,3,4,5,6,7,8,9,10]\n",
    "new_lst=set(list5)\n",
    "new_lst.remove(max(list5))\n",
    "result=max(new_lst)"
   ]
  },
  {
   "cell_type": "code",
   "execution_count": 21,
   "metadata": {},
   "outputs": [
    {
     "data": {
      "text/plain": [
       "9"
      ]
     },
     "execution_count": 21,
     "metadata": {},
     "output_type": "execute_result"
    }
   ],
   "source": [
    "result"
   ]
  },
  {
   "cell_type": "code",
   "execution_count": null,
   "metadata": {},
   "outputs": [],
   "source": [
    "#6\n",
    "def Nnumberele(list1, N):\n",
    "   new_list = []\n",
    "   for i in range(0, N):\n",
    "      max1 = 0\n",
    "   for j in range(len(list1)):\n",
    "      if list1[j] > max1:\n",
    "         max1 = list1[j];\n",
    "         list1.remove(max1);\n",
    "         new_list.append(max1)\n",
    "      print(\"Largest numbers are \",new_list)\n",
    "      # Driver code\n",
    "      my_list = [12, 61, 41, 85, 40, 13, 77, 65, 100]\n",
    "      N = 4\n",
    "      # Calling the function\n",
    "Nnumberele(my_list, N)"
   ]
  },
  {
   "cell_type": "code",
   "execution_count": 29,
   "metadata": {},
   "outputs": [
    {
     "name": "stdout",
     "output_type": "stream",
     "text": [
      "2\n",
      "4\n",
      "6\n"
     ]
    }
   ],
   "source": [
    "#7\n",
    "list6=[1,2,3,4,5,6]\n",
    "for i in list6:\n",
    "    if i%2==0:\n",
    "        print (i)\n",
    "    else:\n",
    "        pass"
   ]
  },
  {
   "cell_type": "code",
   "execution_count": 28,
   "metadata": {},
   "outputs": [
    {
     "name": "stdout",
     "output_type": "stream",
     "text": [
      "1\n",
      "3\n",
      "5\n",
      "7\n",
      "9\n"
     ]
    }
   ],
   "source": [
    "#8\n",
    "list7=[1,2,3,4,5,6,7,8,9]\n",
    "for i in list7:\n",
    "    if i%2!=0:\n",
    "        print(i)\n",
    "    else:\n",
    "        pass"
   ]
  },
  {
   "cell_type": "code",
   "execution_count": 40,
   "metadata": {},
   "outputs": [
    {
     "data": {
      "text/plain": [
       "[1, 2, 3, 4, [3, 4, 5], ['sunil']]"
      ]
     },
     "execution_count": 40,
     "metadata": {},
     "output_type": "execute_result"
    }
   ],
   "source": [
    "#9\n",
    "list8=[1,2,3,4,[],[],[3,4,5],[],[\"sunil\"]]\n",
    "list8 = [i for i in list8 if i!= []] #list comprehension\n",
    "list8"
   ]
  },
  {
   "cell_type": "code",
   "execution_count": 44,
   "metadata": {},
   "outputs": [
    {
     "data": {
      "text/plain": [
       "[1, 2, 3, 4, 5]"
      ]
     },
     "execution_count": 44,
     "metadata": {},
     "output_type": "execute_result"
    }
   ],
   "source": [
    "#10\n",
    "list9=[1,2,3,4,5]\n",
    "list91=[\"khalisi\",\"targerian\"]\n",
    "\n",
    "result=list9.copy()\n",
    "result."
   ]
  },
  {
   "cell_type": "code",
   "execution_count": 47,
   "metadata": {},
   "outputs": [
    {
     "data": {
      "text/plain": [
       "[1, 2, 3, 4, 5]"
      ]
     },
     "execution_count": 47,
     "metadata": {},
     "output_type": "execute_result"
    }
   ],
   "source": [
    "#10\n",
    "def cloning(lst):\n",
    "    l1=[]\n",
    "    l1=lst.copy()\n",
    "    return l1\n",
    "\n",
    "lst=[1,2,3,4,5]\n",
    "lst2=cloning(lst)\n",
    "lst2"
   ]
  },
  {
   "cell_type": "code",
   "execution_count": 2,
   "metadata": {},
   "outputs": [
    {
     "data": {
      "text/plain": [
       "1"
      ]
     },
     "execution_count": 2,
     "metadata": {},
     "output_type": "execute_result"
    }
   ],
   "source": [
    "#11\n",
    "list=[1,2,3,3,4,55,66,3]\n",
    "list.count(4)"
   ]
  },
  {
   "cell_type": "code",
   "execution_count": null,
   "metadata": {},
   "outputs": [],
   "source": []
  }
 ],
 "metadata": {
  "kernelspec": {
   "display_name": "Python 3",
   "language": "python",
   "name": "python3"
  },
  "language_info": {
   "codemirror_mode": {
    "name": "ipython",
    "version": 3
   },
   "file_extension": ".py",
   "mimetype": "text/x-python",
   "name": "python",
   "nbconvert_exporter": "python",
   "pygments_lexer": "ipython3",
   "version": "3.8.5"
  }
 },
 "nbformat": 4,
 "nbformat_minor": 4
}
