{
 "cells": [
  {
   "cell_type": "code",
   "execution_count": 1,
   "metadata": {},
   "outputs": [],
   "source": [
    "#1. Write a Python Program to Display Fibonacci Sequence Using Recursion?\n",
    "#2. Write a Python Program to Find Factorial of Number Using Recursion?\n",
    "#3. Write a Python Program to calculate your Body Mass Index?\n",
    "#4. Write a Python Program to calculate the natural logarithm of any number?\n",
    "#5. Write a Python Program for cube sum of first n natural numbers?"
   ]
  },
  {
   "cell_type": "code",
   "execution_count": 7,
   "metadata": {},
   "outputs": [
    {
     "name": "stdout",
     "output_type": "stream",
     "text": [
      "How many terms? 8\n",
      "Fibonacci sequence:\n",
      "0\n",
      "1\n",
      "1\n",
      "2\n",
      "3\n",
      "5\n",
      "8\n",
      "13\n"
     ]
    }
   ],
   "source": [
    "#1. Write a Python Program to Display Fibonacci Sequence Using Recursion?\n",
    "\n",
    "def recur_fib(n):  \n",
    "   if n <= 1:  \n",
    "       return n  \n",
    "   else:  \n",
    "       return(recur_fib(n-1) + recur_fib(n-2))  \n",
    "  \n",
    "nterms = int(input(\"How many terms? \"))  \n",
    "\n",
    "if nterms <= 0:  \n",
    "   print(\"Plese enter a positive integer\")  \n",
    "else:  \n",
    "   print(\"Fibonacci sequence:\")  \n",
    "   for i in range(nterms):  \n",
    "       print(recur_fib(i))\n",
    "    "
   ]
  },
  {
   "cell_type": "code",
   "execution_count": 25,
   "metadata": {},
   "outputs": [
    {
     "name": "stdout",
     "output_type": "stream",
     "text": [
      "enter value:  8\n",
      "factorial of 8 is 40320\n"
     ]
    }
   ],
   "source": [
    "#2. Write a Python Program to Find Factorial of NumberUsing Recursion?\n",
    "\n",
    "def recur_fact(n):\n",
    "    if n==1:\n",
    "        return n\n",
    "    else:\n",
    "        return n*recur_fact(n-1)\n",
    "    \n",
    "num=int(input(\"enter value:  \"))\n",
    "  \n",
    "if num<0:\n",
    "    print(\"factorial of negative integers doesnot exist\")\n",
    "elif num==0:\n",
    "    print(\"factorial of 0 is 1\")\n",
    "else:\n",
    "    print(\"factorial of\",num,\"is\",recur_fact(num))\n",
    "\n"
   ]
  },
  {
   "cell_type": "code",
   "execution_count": 26,
   "metadata": {},
   "outputs": [
    {
     "data": {
      "text/plain": [
       "40320"
      ]
     },
     "execution_count": 26,
     "metadata": {},
     "output_type": "execute_result"
    }
   ],
   "source": [
    "recur_fact(8)"
   ]
  },
  {
   "cell_type": "code",
   "execution_count": 28,
   "metadata": {},
   "outputs": [],
   "source": [
    "#3. Write a Python Program to calculate your Body Mass Index?\n",
    "\n",
    "\n",
    "def BMI(weight,height):\n",
    "    weight=float(input(\"enter your weight in kg:   \"))\n",
    "    height=float(input(\"enter your height in cm:   \"))\n",
    "\n",
    "    bmi=weight / (height/100)**2\n",
    "    \n",
    "    print(\"your BMI is {0}\".format(bmi))\n",
    "    \n",
    "    if bmi<=18.4:\n",
    "        print(\"you have to improve your weight\")\n",
    "    elif bmi<=24.9:\n",
    "        print(\" You are healthy\")\n",
    "    elif bmi<=29.9:\n",
    "        print(\"over weight\")\n",
    "    elif bmi<=34.9:\n",
    "        print(\"severely over weight\")\n",
    "    elif bmi<=39.9:\n",
    "        print(\"you are obese\")\n",
    "    else:\n",
    "        print(\"severly obese\")\n",
    "        \n",
    "        \n",
    "    "
   ]
  },
  {
   "cell_type": "code",
   "execution_count": 29,
   "metadata": {},
   "outputs": [
    {
     "name": "stdout",
     "output_type": "stream",
     "text": [
      "enter your weight in kg:   34\n",
      "enter your height in cm:   56\n",
      "your BMI is 108.41836734693877\n",
      "severly obese\n"
     ]
    }
   ],
   "source": [
    "BMI(34,56)"
   ]
  },
  {
   "cell_type": "code",
   "execution_count": 58,
   "metadata": {},
   "outputs": [
    {
     "name": "stdout",
     "output_type": "stream",
     "text": [
      "math.log(10):   2.302585092994046\n",
      "math.log(5.8):   1.7578579175523736\n",
      "math.log(6):   1.791759469228055\n",
      "math.log(72):   4.276666119016055\n",
      "math.log(14):   2.6390573296152584\n",
      "math.log(69.6):   4.242764567340374\n"
     ]
    }
   ],
   "source": [
    "#4. Write a Python Program to calculate the natural logarithm of any number?\n",
    "\n",
    "import math\n",
    "\n",
    "\n",
    "\n",
    "print(\"math.log(10):  \",math.log(10))\n",
    "print(\"math.log(5.8):  \",math.log(5.8))\n",
    "print(\"math.log(6):  \",math.log(6))\n",
    "print(\"math.log(72):  \",math.log(72))\n",
    "print(\"math.log(14):  \",math.log(14))\n",
    "print(\"math.log(69.6):  \",math.log(69.6))\n",
    "\n",
    "\n"
   ]
  },
  {
   "cell_type": "code",
   "execution_count": 76,
   "metadata": {},
   "outputs": [],
   "source": [
    "#5. Write a Python Program for cube sum of first n natural numbers?\n",
    "\n",
    "def sum_cube(n):\n",
    "        i=(n/2)*(n+1)\n",
    "        \n",
    "        \n",
    "        return int(i*i)\n",
    "    "
   ]
  },
  {
   "cell_type": "code",
   "execution_count": 81,
   "metadata": {},
   "outputs": [
    {
     "data": {
      "text/plain": [
       "100"
      ]
     },
     "execution_count": 81,
     "metadata": {},
     "output_type": "execute_result"
    }
   ],
   "source": [
    "sum_cube(4)"
   ]
  },
  {
   "cell_type": "code",
   "execution_count": null,
   "metadata": {},
   "outputs": [],
   "source": []
  },
  {
   "cell_type": "code",
   "execution_count": null,
   "metadata": {},
   "outputs": [],
   "source": []
  }
 ],
 "metadata": {
  "kernelspec": {
   "display_name": "Python 3",
   "language": "python",
   "name": "python3"
  },
  "language_info": {
   "codemirror_mode": {
    "name": "ipython",
    "version": 3
   },
   "file_extension": ".py",
   "mimetype": "text/x-python",
   "name": "python",
   "nbconvert_exporter": "python",
   "pygments_lexer": "ipython3",
   "version": "3.8.5"
  }
 },
 "nbformat": 4,
 "nbformat_minor": 4
}
