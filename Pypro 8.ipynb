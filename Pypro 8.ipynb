{
 "cells": [
  {
   "cell_type": "code",
   "execution_count": null,
   "metadata": {},
   "outputs": [],
   "source": [
    "#1.Write a Python Program to Add Two Matrices?\n",
    "#2. Write a Python Program to Multiply Two Matrices?\n",
    "#3. Write a Python Program to Transpose a Matrix?\n",
    "#4. Write a Python Program to Sort Words in Alphabetic Order?\n",
    "#5. Write a Python Program to Remove Punctuation From a String?"
   ]
  },
  {
   "cell_type": "code",
   "execution_count": 28,
   "metadata": {},
   "outputs": [
    {
     "data": {
      "text/plain": [
       "[[13, 36, 25], [26, 37, 48], [50, 52, 54]]"
      ]
     },
     "execution_count": 28,
     "metadata": {},
     "output_type": "execute_result"
    }
   ],
   "source": [
    "A=[[1,2,3],\n",
    "  [4,5,6],\n",
    "  [7,8,9]]\n",
    "\n",
    "B=[[12,34,22],\n",
    "  [22,32,42],\n",
    "  [43,44,45]]\n",
    "\n",
    "result=[[0,0,0],\n",
    "       [0,0,0],\n",
    "       [0,0,0]]\n",
    "\n",
    "for i in range(len(A)):\n",
    "    for j in range(len(A[0])):\n",
    "        result[i][j]=A[i][j]+B[i][j]\n",
    "        \n",
    "result\n",
    "\n"
   ]
  },
  {
   "cell_type": "code",
   "execution_count": 29,
   "metadata": {},
   "outputs": [
    {
     "data": {
      "text/plain": [
       "[[12, 68, 66], [88, 160, 252], [301, 352, 405]]"
      ]
     },
     "execution_count": 29,
     "metadata": {},
     "output_type": "execute_result"
    }
   ],
   "source": [
    "#2\n",
    "\n",
    "A=[[1,2,3],\n",
    "  [4,5,6],\n",
    "  [7,8,9]]\n",
    "\n",
    "B=[[12,34,22],\n",
    "  [22,32,42],\n",
    "  [43,44,45]]\n",
    "\n",
    "result=[[0,0,0],\n",
    "       [0,0,0],\n",
    "       [0,0,0]]\n",
    "\n",
    "for i in range(len(A)):\n",
    "    for j in range(len(A[0])):\n",
    "        result[i][j]=A[i][j]*B[i][j]\n",
    "        \n",
    "result\n",
    "\n"
   ]
  },
  {
   "cell_type": "code",
   "execution_count": 33,
   "metadata": {},
   "outputs": [
    {
     "name": "stdout",
     "output_type": "stream",
     "text": [
      "[[23 34 24]\n",
      " [14 16 18]\n",
      " [36 26 18]]\n"
     ]
    }
   ],
   "source": [
    "#1\n",
    "import numpy as np\n",
    "A=np.array([[1,2,3],[2,3,4],[4,5,6]])\n",
    "B=np.array([[22,32,21],[12,13,14],[32,21,12]])\n",
    "C=A+B\n",
    "print (C)"
   ]
  },
  {
   "cell_type": "code",
   "execution_count": 34,
   "metadata": {},
   "outputs": [
    {
     "name": "stdout",
     "output_type": "stream",
     "text": [
      "[[ 22  64  63]\n",
      " [ 24  39  56]\n",
      " [128 105  72]]\n"
     ]
    }
   ],
   "source": [
    "#2\n",
    "import numpy as np\n",
    "A=np.array([[1,2,3],\n",
    "            [2,3,4],\n",
    "            [4,5,6]])\n",
    "B=np.array([[22,32,21],\n",
    "            [12,13,14],\n",
    "            [32,21,12]])\n",
    "C=A*B\n",
    "print (C)"
   ]
  },
  {
   "cell_type": "code",
   "execution_count": 40,
   "metadata": {},
   "outputs": [
    {
     "data": {
      "text/plain": [
       "array([[ 1,  3,  5],\n",
       "       [ 2,  4,  6],\n",
       "       [88, 65, 55]])"
      ]
     },
     "execution_count": 40,
     "metadata": {},
     "output_type": "execute_result"
    }
   ],
   "source": [
    "#3\n",
    "\n",
    "import numpy as np\n",
    "M=np.array([[1,2,88],\n",
    "            [3,4,65],\n",
    "            [5,6,55]])\n",
    "M1=np.transpose(M)\n",
    "M1"
   ]
  },
  {
   "cell_type": "code",
   "execution_count": 48,
   "metadata": {},
   "outputs": [
    {
     "name": "stdout",
     "output_type": "stream",
     "text": [
      "Enter your string:This is my eighth assignment \n",
      "This\n",
      "assignment\n",
      "eighth\n",
      "is\n",
      "my\n"
     ]
    }
   ],
   "source": [
    "#4\n",
    "str=input(\"Enter your string:\"  )\n",
    "words=str.split()\n",
    "\n",
    "words.sort()\n",
    "\n",
    "for i in words:\n",
    "    print(i)"
   ]
  },
  {
   "cell_type": "code",
   "execution_count": 54,
   "metadata": {},
   "outputs": [
    {
     "name": "stdout",
     "output_type": "stream",
     "text": [
      "enter your string:Pycharm@is#a.good%platform\n",
      "Pycharm is a good platform\n"
     ]
    }
   ],
   "source": [
    "#5\n",
    "\n",
    "str1=input(\"enter your string:\"  )\n",
    "\n",
    "punc='''!()-[]{};:'\"\\, <>./?@#$%^&*_~'''\n",
    "\n",
    "for i in str1:\n",
    "    if i in punc:\n",
    "        str1=str1.replace(i,\" \")\n",
    "print (str1)\n"
   ]
  },
  {
   "cell_type": "code",
   "execution_count": null,
   "metadata": {},
   "outputs": [],
   "source": []
  }
 ],
 "metadata": {
  "kernelspec": {
   "display_name": "Python 3",
   "language": "python",
   "name": "python3"
  },
  "language_info": {
   "codemirror_mode": {
    "name": "ipython",
    "version": 3
   },
   "file_extension": ".py",
   "mimetype": "text/x-python",
   "name": "python",
   "nbconvert_exporter": "python",
   "pygments_lexer": "ipython3",
   "version": "3.8.5"
  }
 },
 "nbformat": 4,
 "nbformat_minor": 4
}
